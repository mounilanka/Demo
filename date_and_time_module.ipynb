{
  "nbformat": 4,
  "nbformat_minor": 0,
  "metadata": {
    "colab": {
      "name": "date and time module.ipynb",
      "provenance": [],
      "authorship_tag": "ABX9TyPbL9DtWEABH9P/r9iauB8o",
      "include_colab_link": true
    },
    "kernelspec": {
      "name": "python3",
      "display_name": "Python 3"
    },
    "language_info": {
      "name": "python"
    }
  },
  "cells": [
    {
      "cell_type": "markdown",
      "metadata": {
        "id": "view-in-github",
        "colab_type": "text"
      },
      "source": [
        "<a href=\"https://colab.research.google.com/github/mounilanka/Demo/blob/main/date_and_time_module.ipynb\" target=\"_parent\"><img src=\"https://colab.research.google.com/assets/colab-badge.svg\" alt=\"Open In Colab\"/></a>"
      ]
    },
    {
      "cell_type": "code",
      "execution_count": null,
      "metadata": {
        "colab": {
          "base_uri": "https://localhost:8080/"
        },
        "id": "YzTK5th362_V",
        "outputId": "4b0b1eb7-3cbc-40df-bb6f-56893744d9b6"
      },
      "outputs": [
        {
          "output_type": "stream",
          "name": "stdout",
          "text": [
            "today's date is 2022-05-13\n"
          ]
        }
      ],
      "source": [
        "#task 16\n",
        "#datetime module\n",
        "#date and time are not a data type on thr own,but a module named datetime can be imported to work with date a weel as time\n",
        "#get current date\n",
        "from datetime import date\n",
        "today = date.today()\n",
        "print(\"today's date is\",today)"
      ]
    },
    {
      "cell_type": "code",
      "source": [
        "#get today's year,month, and date\n",
        "from datetime import date\n",
        "today = date.today()\n",
        "print(\"current year:\",today.year)\n",
        "print(\"current month:\",today.month)\n",
        "print(\"current day:\",today.day)"
      ],
      "metadata": {
        "colab": {
          "base_uri": "https://localhost:8080/"
        },
        "id": "MjZJqSLd8ayR",
        "outputId": "c187ff7c-c04f-4a04-d9cb-d6ee054d933b"
      },
      "execution_count": null,
      "outputs": [
        {
          "output_type": "stream",
          "name": "stdout",
          "text": [
            "current year: 2022\n",
            "current month: 5\n",
            "current day: 13\n"
          ]
        }
      ]
    },
    {
      "cell_type": "code",
      "source": [
        "#get date from timestamp\n",
        "from datetime import datetime\n",
        "date_time = datetime.fromtimestamp(1887639498)\n",
        "print(\"datetime from timestamp:\",date_time)"
      ],
      "metadata": {
        "colab": {
          "base_uri": "https://localhost:8080/"
        },
        "id": "OO8O1nTK9TEv",
        "outputId": "6202a862-36ac-484b-fe07-ca73597585a6"
      },
      "execution_count": null,
      "outputs": [
        {
          "output_type": "stream",
          "name": "stdout",
          "text": [
            "datetime from timestamp: 2029-10-25 16:18:18\n"
          ]
        }
      ]
    }
  ]
}